{
 "cells": [
  {
   "cell_type": "code",
   "execution_count": 1,
   "metadata": {},
   "outputs": [
    {
     "name": "stdout",
     "output_type": "stream",
     "text": [
      "Data loaded successfully.\n",
      "            created_at                tweet_id  \\\n",
      "0  2020-10-15 00:00:01   1.316529221557252e+18   \n",
      "1  2020-10-15 00:00:18    1.31652929585929e+18   \n",
      "2  2020-10-15 00:00:20  1.3165293050069524e+18   \n",
      "3  2020-10-15 00:00:21  1.3165293080815575e+18   \n",
      "4  2020-10-15 00:00:22   1.316529312741253e+18   \n",
      "\n",
      "                                               tweet likes  retweet_count  \\\n",
      "0  #Elecciones2020 | En #Florida: #JoeBiden dice ...   0.0            0.0   \n",
      "1  #HunterBiden #HunterBidenEmails #JoeBiden #Joe...   0.0            0.0   \n",
      "2  @IslandGirlPRV @BradBeauregardJ @MeidasTouch T...   0.0            0.0   \n",
      "3  @chrislongview Watching and setting dvr. Let’s...   0.0            0.0   \n",
      "4  #censorship #HunterBiden #Biden #BidenEmails #...   1.0            0.0   \n",
      "\n",
      "                 user_id           user_name       user_join_date  \\\n",
      "0            360666534.0  El Sol Latino News  2011-08-23 15:33:45   \n",
      "1            809904438.0         Cheri A. 🇺🇸  2012-09-08 01:03:57   \n",
      "2           3494182277.0          Flag Waver  2015-08-30 19:38:21   \n",
      "3  8.242596012018524e+17       Michelle Ferg  2017-01-25 14:16:17   \n",
      "4  1.032806955356545e+18      the Gold State  2018-08-24 01:49:01   \n",
      "\n",
      "  user_followers_count                 user_location         lat  \\\n",
      "0               1860.0  Philadelphia, PA / Miami, FL    25.77427   \n",
      "1               6628.0                           NaN         NaN   \n",
      "2               1536.0         Golden Valley Arizona  46.3040364   \n",
      "3                 27.0                           NaN         NaN   \n",
      "4                390.0               California, USA  36.7014631   \n",
      "\n",
      "                  long                   country      continent       state  \\\n",
      "0            -80.19366  United States of America  North America     Florida   \n",
      "1                  NaN                       NaN            NaN         NaN   \n",
      "2  -109.17143119999999  United States of America  North America     Montana   \n",
      "3                  NaN                       NaN            NaN         NaN   \n",
      "4  -118.75599740000001  United States of America  North America  California   \n",
      "\n",
      "  state_code                   collected_at  \n",
      "0         FL            2020-10-21 00:00:00  \n",
      "1        NaN  2020-10-21 00:00:00.517827283  \n",
      "2         MT  2020-10-21 00:00:01.035654566  \n",
      "3        NaN  2020-10-21 00:00:01.553481849  \n",
      "4         CA  2020-10-21 00:00:02.071309132  \n",
      "            created_at                tweet_id  \\\n",
      "0  2020-10-15 00:00:01   1.316529221557252e+18   \n",
      "1  2020-10-15 00:00:18    1.31652929585929e+18   \n",
      "2  2020-10-15 00:00:20  1.3165293050069524e+18   \n",
      "3  2020-10-15 00:00:21  1.3165293080815575e+18   \n",
      "4  2020-10-15 00:00:22   1.316529312741253e+18   \n",
      "\n",
      "                                               tweet likes  retweet_count  \\\n",
      "0  #Elecciones2020 | En #Florida: #JoeBiden dice ...   0.0            0.0   \n",
      "1  #HunterBiden #HunterBidenEmails #JoeBiden #Joe...   0.0            0.0   \n",
      "2  @IslandGirlPRV @BradBeauregardJ @MeidasTouch T...   0.0            0.0   \n",
      "3  @chrislongview Watching and setting dvr. Let’s...   0.0            0.0   \n",
      "4  #censorship #HunterBiden #Biden #BidenEmails #...   1.0            0.0   \n",
      "\n",
      "                 user_id           user_name       user_join_date  \\\n",
      "0            360666534.0  El Sol Latino News  2011-08-23 15:33:45   \n",
      "1            809904438.0         Cheri A. 🇺🇸  2012-09-08 01:03:57   \n",
      "2           3494182277.0          Flag Waver  2015-08-30 19:38:21   \n",
      "3  8.242596012018524e+17       Michelle Ferg  2017-01-25 14:16:17   \n",
      "4  1.032806955356545e+18      the Gold State  2018-08-24 01:49:01   \n",
      "\n",
      "  user_followers_count                 user_location         lat  \\\n",
      "0               1860.0  Philadelphia, PA / Miami, FL    25.77427   \n",
      "1               6628.0                           NaN         NaN   \n",
      "2               1536.0         Golden Valley Arizona  46.3040364   \n",
      "3                 27.0                           NaN         NaN   \n",
      "4                390.0               California, USA  36.7014631   \n",
      "\n",
      "                  long                   country      continent       state  \\\n",
      "0            -80.19366  United States of America  North America     Florida   \n",
      "1                  NaN                       NaN            NaN         NaN   \n",
      "2  -109.17143119999999  United States of America  North America     Montana   \n",
      "3                  NaN                       NaN            NaN         NaN   \n",
      "4  -118.75599740000001  United States of America  North America  California   \n",
      "\n",
      "  state_code                   collected_at  \n",
      "0         FL            2020-10-21 00:00:00  \n",
      "1        NaN  2020-10-21 00:00:00.517827283  \n",
      "2         MT  2020-10-21 00:00:01.035654566  \n",
      "3        NaN  2020-10-21 00:00:01.553481849  \n",
      "4         CA  2020-10-21 00:00:02.071309132  \n",
      "            created_at                tweet_id  \\\n",
      "0  2020-10-15 00:00:01   1.316529221557252e+18   \n",
      "1  2020-10-15 00:00:01  1.3165292227484303e+18   \n",
      "2  2020-10-15 00:00:02   1.316529228091847e+18   \n",
      "3  2020-10-15 00:00:02   1.316529227471237e+18   \n",
      "4  2020-10-15 00:00:08  1.3165292523014513e+18   \n",
      "\n",
      "                                               tweet likes  retweet_count  \\\n",
      "0  #Elecciones2020 | En #Florida: #JoeBiden dice ...   0.0            0.0   \n",
      "1  Usa 2020, Trump contro Facebook e Twitter: cop...  26.0            9.0   \n",
      "2  #Trump: As a student I used to hear for years,...   2.0            1.0   \n",
      "3  2 hours since last tweet from #Trump! Maybe he...   0.0            0.0   \n",
      "4  You get a tie! And you get a tie! #Trump ‘s ra...   4.0            3.0   \n",
      "\n",
      "                user_id              user_name       user_join_date  \\\n",
      "0           360666534.0     El Sol Latino News  2011-08-23 15:33:45   \n",
      "1           331617619.0                Tgcom24  2011-07-08 13:12:20   \n",
      "2             8436472.0                 snarke  2007-08-26 05:56:11   \n",
      "3  8.28355589206057e+17          Trumpytweeter  2017-02-05 21:32:17   \n",
      "4            47413798.0  Rana Abtar - رنا أبتر  2009-06-15 19:05:35   \n",
      "\n",
      "  user_followers_count                 user_location         lat  \\\n",
      "0               1860.0  Philadelphia, PA / Miami, FL    25.77427   \n",
      "1            1067661.0                           NaN         NaN   \n",
      "2               1185.0                      Portland  45.5202471   \n",
      "3                 32.0                           NaN         NaN   \n",
      "4               5393.0                 Washington DC  38.8949924   \n",
      "\n",
      "           long                   country      continent  \\\n",
      "0     -80.19366  United States of America  North America   \n",
      "1           NaN                       NaN            NaN   \n",
      "2  -122.6741949  United States of America  North America   \n",
      "3           NaN                       NaN            NaN   \n",
      "4   -77.0365581  United States of America  North America   \n",
      "\n",
      "                  state state_code                   collected_at  \n",
      "0               Florida         FL            2020-10-21 00:00:00  \n",
      "1                   NaN        NaN  2020-10-21 00:00:00.373216530  \n",
      "2                Oregon         OR  2020-10-21 00:00:00.746433060  \n",
      "3                   NaN        NaN  2020-10-21 00:00:01.119649591  \n",
      "4  District of Columbia         DC  2020-10-21 00:00:01.492866121  \n"
     ]
    }
   ],
   "source": [
    "import pandas as pd\n",
    "\n",
    "# Path to data\n",
    "file_path_joebiden = r'C:\\Users\\iurch\\OneDrive\\DataCircle\\project_data\\hashtag_joebiden.csv'\n",
    "file_path_donaldtrump = r'C:\\Users\\iurch\\OneDrive\\DataCircle\\project_data\\hashtag_donaldtrump.csv'\n",
    "\n",
    "\n",
    "#Columns to read\n",
    "columns_to_read = ['created_at', 'tweet_id', 'tweet','likes', 'retweet_count','user_id','user_name', 'user_join_date', 'user_followers_count', \n",
    "                   'user_location', 'lat', 'long','country', 'continent', 'state', 'state_code','collected_at']\n",
    "\n",
    "try:\n",
    "    df_joebiden = pd.read_csv(file_path_joebiden, usecols=columns_to_read,  engine='python')\n",
    "    df_donaldtrump = pd.read_csv(file_path_donaldtrump, usecols=columns_to_read, engine='python')\n",
    "    print(\"Data loaded successfully.\")\n",
    "    print(df_joebiden.head())\n",
    "except Exception as e:\n",
    "    print(\"Error loading data:\", e)\n",
    "\n",
    "print(df_joebiden.head())\n",
    "print(df_donaldtrump.head())\n"
   ]
  },
  {
   "cell_type": "code",
   "execution_count": 2,
   "metadata": {},
   "outputs": [
    {
     "name": "stdout",
     "output_type": "stream",
     "text": [
      "\n",
      "Joe Biden Data:\n",
      "<class 'pandas.core.frame.DataFrame'>\n",
      "RangeIndex: 971087 entries, 0 to 971086\n",
      "Data columns (total 17 columns):\n",
      " #   Column                Non-Null Count   Dtype  \n",
      "---  ------                --------------   -----  \n",
      " 0   created_at            971087 non-null  object \n",
      " 1   tweet_id              971073 non-null  object \n",
      " 2   tweet                 971073 non-null  object \n",
      " 3   likes                 971045 non-null  object \n",
      " 4   retweet_count         970933 non-null  float64\n",
      " 5   user_id               970929 non-null  object \n",
      " 6   user_name             970911 non-null  object \n",
      " 7   user_join_date        970779 non-null  object \n",
      " 8   user_followers_count  970917 non-null  object \n",
      " 9   user_location         675830 non-null  object \n",
      " 10  lat                   445702 non-null  object \n",
      " 11  long                  445705 non-null  object \n",
      " 12  country               442732 non-null  object \n",
      " 13  continent             442749 non-null  object \n",
      " 14  state                 320614 non-null  object \n",
      " 15  state_code            300414 non-null  object \n",
      " 16  collected_at          970765 non-null  object \n",
      "dtypes: float64(1), object(16)\n",
      "memory usage: 125.9+ MB\n",
      "None\n"
     ]
    }
   ],
   "source": [
    "# Display basic information about the datasets\n",
    "print(\"\\nDonald Trump Data:\")\n",
    "print(df_donaldtrump.info())"
   ]
  },
  {
   "cell_type": "code",
   "execution_count": 3,
   "metadata": {},
   "outputs": [
    {
     "name": "stdout",
     "output_type": "stream",
     "text": [
      "\n",
      "Joe Biden Data:\n",
      "<class 'pandas.core.frame.DataFrame'>\n",
      "RangeIndex: 777073 entries, 0 to 777072\n",
      "Data columns (total 17 columns):\n",
      " #   Column                Non-Null Count   Dtype  \n",
      "---  ------                --------------   -----  \n",
      " 0   created_at            777073 non-null  object \n",
      " 1   tweet_id              776995 non-null  object \n",
      " 2   tweet                 776995 non-null  object \n",
      " 3   likes                 776914 non-null  object \n",
      " 4   retweet_count         776895 non-null  float64\n",
      " 5   user_id               776889 non-null  object \n",
      " 6   user_name             776870 non-null  object \n",
      " 7   user_join_date        776784 non-null  object \n",
      " 8   user_followers_count  776885 non-null  object \n",
      " 9   user_location         543063 non-null  object \n",
      " 10  lat                   355284 non-null  object \n",
      " 11  long                  355284 non-null  object \n",
      " 12  country               353770 non-null  object \n",
      " 13  continent             353788 non-null  object \n",
      " 14  state                 260191 non-null  object \n",
      " 15  state_code            244603 non-null  object \n",
      " 16  collected_at          776777 non-null  object \n",
      "dtypes: float64(1), object(16)\n",
      "memory usage: 100.8+ MB\n",
      "None\n"
     ]
    }
   ],
   "source": [
    "print(\"\\nJoe Biden Data:\")\n",
    "print(df_joebiden.info())"
   ]
  },
  {
   "cell_type": "code",
   "execution_count": 4,
   "metadata": {},
   "outputs": [
    {
     "name": "stdout",
     "output_type": "stream",
     "text": [
      "created_at              datetime64[ns]\n",
      "tweet_id                        object\n",
      "tweet                           object\n",
      "likes                           object\n",
      "retweet_count                  float64\n",
      "user_id                         object\n",
      "user_name                       object\n",
      "user_join_date          datetime64[ns]\n",
      "user_followers_count            object\n",
      "user_location                   object\n",
      "lat                             object\n",
      "long                            object\n",
      "country                         object\n",
      "continent                       object\n",
      "state                           object\n",
      "state_code                      object\n",
      "collected_at            datetime64[ns]\n",
      "dtype: object\n"
     ]
    }
   ],
   "source": [
    "# Transforming dtypes joebiden Data\n",
    "# columns to datetime\n",
    "parse_dates = ['created_at', 'user_join_date', 'collected_at']\n",
    "for date_column in parse_dates:\n",
    "    df_joebiden[date_column] = pd.to_datetime(df_joebiden[date_column], errors='coerce')\n",
    "\n",
    "print(df_joebiden.dtypes) "
   ]
  },
  {
   "cell_type": "code",
   "execution_count": 5,
   "metadata": {},
   "outputs": [
    {
     "name": "stdout",
     "output_type": "stream",
     "text": [
      "created_at              datetime64[ns]\n",
      "tweet_id                        object\n",
      "tweet                           object\n",
      "likes                           object\n",
      "retweet_count                  float64\n",
      "user_id                         object\n",
      "user_name                       object\n",
      "user_join_date          datetime64[ns]\n",
      "user_followers_count            object\n",
      "user_location                   object\n",
      "lat                             object\n",
      "long                            object\n",
      "country                         object\n",
      "continent                       object\n",
      "state                           object\n",
      "state_code                      object\n",
      "collected_at            datetime64[ns]\n",
      "dtype: object\n"
     ]
    }
   ],
   "source": [
    "# Transforming dtypes donald trump Data\n",
    "# columns to datetime\n",
    "parse_dates = ['created_at', 'user_join_date', 'collected_at']\n",
    "for date_column in parse_dates:\n",
    "    df_donaldtrump[date_column] = pd.to_datetime(df_donaldtrump[date_column], errors='coerce')\n",
    "\n",
    "print(df_donaldtrump.dtypes) "
   ]
  },
  {
   "cell_type": "markdown",
   "metadata": {},
   "source": [
    "Now we have to transform columns to the right datatype\n",
    "tweet_id                        int64\n",
    "tweet                           str\n",
    "likes                           float64\n",
    "retweet_count                  float64\n",
    "user_id                         object\n",
    "user_name                       object\n",
    "user_join_date          datetime64[ns]\n",
    "user_followers_count            object\n",
    "user_location                   object\n",
    "lat                             object\n",
    "long                            object\n",
    "country                         object\n",
    "continent                       object\n",
    "state                           object\n",
    "state_code                      object"
   ]
  },
  {
   "cell_type": "code",
   "execution_count": 17,
   "metadata": {},
   "outputs": [],
   "source": [
    "# Convert 'tweet_id' to numeric, invalid parsing will be set as NaN\n",
    "df_joebiden['tweet_id_numeric'] = pd.to_numeric(df_joebiden['tweet_id'], errors='coerce')\n",
    "# Trump Tweet_ID\n",
    "df_donaldtrump['tweet_id_numeric'] = pd.to_numeric(df_donaldtrump['tweet_id'], errors='coerce')"
   ]
  },
  {
   "cell_type": "code",
   "execution_count": 18,
   "metadata": {},
   "outputs": [],
   "source": [
    "# Drop rows where 'tweet_id_numeric' is NaN \n",
    "df_joebiden = df_joebiden.dropna(subset=['tweet_id_numeric'])\n",
    "# Trump Tweet_ID\n",
    "df_donaldtrump = df_donaldtrump.dropna(subset=['tweet_id_numeric'])"
   ]
  },
  {
   "cell_type": "code",
   "execution_count": 19,
   "metadata": {},
   "outputs": [],
   "source": [
    "# Now convert 'tweet_id_numeric' to 'int64'\n",
    "df_joebiden['tweet_id_numeric'] = df_joebiden['tweet_id_numeric'].astype('int64')\n",
    "# Trump Tweet_ID\n",
    "df_donaldtrump['tweet_id_numeric'] = df_donaldtrump['tweet_id_numeric'].astype('int64')"
   ]
  },
  {
   "cell_type": "code",
   "execution_count": 21,
   "metadata": {},
   "outputs": [
    {
     "data": {
      "text/plain": [
       "<bound method Series.info of Series([], Name: tweet_id_numeric, dtype: int64)>"
      ]
     },
     "execution_count": 21,
     "metadata": {},
     "output_type": "execute_result"
    }
   ],
   "source": [
    "#Check\n",
    "df_joebiden['tweet_id_numeric'].info\n",
    "df_donaldtrump['tweet_id_numeric'].info"
   ]
  },
  {
   "cell_type": "code",
   "execution_count": 22,
   "metadata": {},
   "outputs": [],
   "source": [
    "# Drop the old 'tweet_id' column \n",
    "df_joebiden = df_joebiden.drop(columns=['tweet_id']).rename(columns={'tweet_id_numeric': 'tweet_id'})\n",
    "df_donaldtrump = df_donaldtrump.drop(columns=['tweet_id']).rename(columns={'tweet_id_numeric': 'tweet_id'})"
   ]
  },
  {
   "cell_type": "code",
   "execution_count": 24,
   "metadata": {},
   "outputs": [
    {
     "data": {
      "text/plain": [
       "0"
      ]
     },
     "execution_count": 24,
     "metadata": {},
     "output_type": "execute_result"
    }
   ],
   "source": [
    "#Cheking duplicates\n",
    "df_joebiden['tweet_id'].duplicated().sum()\n",
    "df_donaldtrump['tweet_id'].duplicated().sum()\n"
   ]
  },
  {
   "cell_type": "code",
   "execution_count": 25,
   "metadata": {},
   "outputs": [],
   "source": [
    "#Converting 'tweet' column to string format\n",
    "df_joebiden['tweet'] = df_joebiden['tweet'].astype(str)\n",
    "df_donaldtrump['tweet'] = df_donaldtrump['tweet'].astype(str)\n",
    "\n"
   ]
  },
  {
   "cell_type": "code",
   "execution_count": 26,
   "metadata": {},
   "outputs": [
    {
     "data": {
      "text/plain": [
       "0"
      ]
     },
     "execution_count": 26,
     "metadata": {},
     "output_type": "execute_result"
    }
   ],
   "source": [
    "df_joebiden['tweet'].duplicated().sum()\n",
    "df_donaldtrump['tweet'].duplicated().sum()"
   ]
  },
  {
   "cell_type": "code",
   "execution_count": 30,
   "metadata": {},
   "outputs": [
    {
     "data": {
      "text/plain": [
       "0"
      ]
     },
     "execution_count": 30,
     "metadata": {},
     "output_type": "execute_result"
    }
   ],
   "source": [
    "df_joebiden['tweet'].isna().sum()"
   ]
  },
  {
   "cell_type": "code",
   "execution_count": 31,
   "metadata": {},
   "outputs": [],
   "source": [
    "#Likes column cleaning\n",
    "\n",
    "# Convert 'likes' to numeric, invalid parsing will be set as NaN\n",
    "df_joebiden['likes_numeric'] = pd.to_numeric(df_joebiden['likes'], errors='coerce')\n",
    "# Trump likes\n",
    "df_donaldtrump['likes_numeric'] = pd.to_numeric(df_donaldtrump['likes'], errors='coerce')"
   ]
  },
  {
   "cell_type": "code",
   "execution_count": 32,
   "metadata": {},
   "outputs": [],
   "source": [
    "# Drop rows where 'likes_numeric' is NaN \n",
    "df_joebiden = df_joebiden.dropna(subset=['likes_numeric'])\n",
    "# Trump Tweet_ID\n",
    "df_donaldtrump = df_donaldtrump.dropna(subset=['likes_numeric'])"
   ]
  },
  {
   "cell_type": "code",
   "execution_count": 34,
   "metadata": {},
   "outputs": [],
   "source": [
    "# Now convert 'likes_numeric' to 'float64'\n",
    "# Use .loc[] to avoid SettingWithCopyWarning\n",
    "df_joebiden.loc[:, 'likes_numeric'] = df_joebiden['likes_numeric'].astype('float64')\n",
    "#Trump likes column\n",
    "df_donaldtrump.loc[:, 'likes_numeric'] = df_donaldtrump['likes_numeric'].astype('float64')\n"
   ]
  },
  {
   "cell_type": "code",
   "execution_count": 35,
   "metadata": {},
   "outputs": [
    {
     "data": {
      "text/plain": [
       "<bound method Series.info of Series([], Name: likes_numeric, dtype: float64)>"
      ]
     },
     "execution_count": 35,
     "metadata": {},
     "output_type": "execute_result"
    }
   ],
   "source": [
    "#Check\n",
    "df_joebiden['likes_numeric'].info\n",
    "df_donaldtrump['likes_numeric'].info"
   ]
  },
  {
   "cell_type": "code",
   "execution_count": 36,
   "metadata": {},
   "outputs": [],
   "source": [
    "# Drop the old 'likes' column \n",
    "df_joebiden = df_joebiden.drop(columns=['likes']).rename(columns={'likes_numeric': 'likes'})\n",
    "df_donaldtrump = df_donaldtrump.drop(columns=['likes']).rename(columns={'likes_numeric': 'likes'})"
   ]
  },
  {
   "cell_type": "code",
   "execution_count": 37,
   "metadata": {},
   "outputs": [
    {
     "data": {
      "text/plain": [
       "0"
      ]
     },
     "execution_count": 37,
     "metadata": {},
     "output_type": "execute_result"
    }
   ],
   "source": [
    "#Checking for duplicates\n",
    "df_joebiden['likes'].duplicated().sum()\n",
    "df_donaldtrump['likes'].duplicated().sum()\n"
   ]
  },
  {
   "cell_type": "code",
   "execution_count": 14,
   "metadata": {},
   "outputs": [
    {
     "ename": "ValueError",
     "evalue": "could not convert string to float: 'Failed State Germany '",
     "output_type": "error",
     "traceback": [
      "\u001b[1;31m---------------------------------------------------------------------------\u001b[0m",
      "\u001b[1;31mValueError\u001b[0m                                Traceback (most recent call last)",
      "Cell \u001b[1;32mIn[14], line 19\u001b[0m\n\u001b[0;32m      1\u001b[0m dtypes \u001b[38;5;241m=\u001b[39m {\n\u001b[0;32m      2\u001b[0m     \u001b[38;5;124m'\u001b[39m\u001b[38;5;124mtweet_id\u001b[39m\u001b[38;5;124m'\u001b[39m: \u001b[38;5;124m'\u001b[39m\u001b[38;5;124mstring\u001b[39m\u001b[38;5;124m'\u001b[39m,  \u001b[38;5;66;03m# Use 'Int64' for nullable integers\u001b[39;00m\n\u001b[0;32m      3\u001b[0m     \u001b[38;5;124m'\u001b[39m\u001b[38;5;124mtweet\u001b[39m\u001b[38;5;124m'\u001b[39m: \u001b[38;5;124m'\u001b[39m\u001b[38;5;124mstring\u001b[39m\u001b[38;5;124m'\u001b[39m,\n\u001b[1;32m   (...)\u001b[0m\n\u001b[0;32m     15\u001b[0m     \u001b[38;5;124m'\u001b[39m\u001b[38;5;124mstate_code\u001b[39m\u001b[38;5;124m'\u001b[39m: \u001b[38;5;124m'\u001b[39m\u001b[38;5;124mobject\u001b[39m\u001b[38;5;124m'\u001b[39m\n\u001b[0;32m     16\u001b[0m }\n\u001b[0;32m     18\u001b[0m \u001b[38;5;28;01mfor\u001b[39;00m column, dtype \u001b[38;5;129;01min\u001b[39;00m dtypes\u001b[38;5;241m.\u001b[39mitems():\n\u001b[1;32m---> 19\u001b[0m     df_joebiden[column] \u001b[38;5;241m=\u001b[39m \u001b[43mdf_joebiden\u001b[49m\u001b[43m[\u001b[49m\u001b[43mcolumn\u001b[49m\u001b[43m]\u001b[49m\u001b[38;5;241;43m.\u001b[39;49m\u001b[43mastype\u001b[49m\u001b[43m(\u001b[49m\u001b[43mdtype\u001b[49m\u001b[43m)\u001b[49m\n",
      "File \u001b[1;32m~\\AppData\\Local\\Packages\\PythonSoftwareFoundation.Python.3.12_qbz5n2kfra8p0\\LocalCache\\local-packages\\Python312\\site-packages\\pandas\\core\\generic.py:6643\u001b[0m, in \u001b[0;36mNDFrame.astype\u001b[1;34m(self, dtype, copy, errors)\u001b[0m\n\u001b[0;32m   6637\u001b[0m     results \u001b[38;5;241m=\u001b[39m [\n\u001b[0;32m   6638\u001b[0m         ser\u001b[38;5;241m.\u001b[39mastype(dtype, copy\u001b[38;5;241m=\u001b[39mcopy, errors\u001b[38;5;241m=\u001b[39merrors) \u001b[38;5;28;01mfor\u001b[39;00m _, ser \u001b[38;5;129;01min\u001b[39;00m \u001b[38;5;28mself\u001b[39m\u001b[38;5;241m.\u001b[39mitems()\n\u001b[0;32m   6639\u001b[0m     ]\n\u001b[0;32m   6641\u001b[0m \u001b[38;5;28;01melse\u001b[39;00m:\n\u001b[0;32m   6642\u001b[0m     \u001b[38;5;66;03m# else, only a single dtype is given\u001b[39;00m\n\u001b[1;32m-> 6643\u001b[0m     new_data \u001b[38;5;241m=\u001b[39m \u001b[38;5;28;43mself\u001b[39;49m\u001b[38;5;241;43m.\u001b[39;49m\u001b[43m_mgr\u001b[49m\u001b[38;5;241;43m.\u001b[39;49m\u001b[43mastype\u001b[49m\u001b[43m(\u001b[49m\u001b[43mdtype\u001b[49m\u001b[38;5;241;43m=\u001b[39;49m\u001b[43mdtype\u001b[49m\u001b[43m,\u001b[49m\u001b[43m \u001b[49m\u001b[43mcopy\u001b[49m\u001b[38;5;241;43m=\u001b[39;49m\u001b[43mcopy\u001b[49m\u001b[43m,\u001b[49m\u001b[43m \u001b[49m\u001b[43merrors\u001b[49m\u001b[38;5;241;43m=\u001b[39;49m\u001b[43merrors\u001b[49m\u001b[43m)\u001b[49m\n\u001b[0;32m   6644\u001b[0m     res \u001b[38;5;241m=\u001b[39m \u001b[38;5;28mself\u001b[39m\u001b[38;5;241m.\u001b[39m_constructor_from_mgr(new_data, axes\u001b[38;5;241m=\u001b[39mnew_data\u001b[38;5;241m.\u001b[39maxes)\n\u001b[0;32m   6645\u001b[0m     \u001b[38;5;28;01mreturn\u001b[39;00m res\u001b[38;5;241m.\u001b[39m__finalize__(\u001b[38;5;28mself\u001b[39m, method\u001b[38;5;241m=\u001b[39m\u001b[38;5;124m\"\u001b[39m\u001b[38;5;124mastype\u001b[39m\u001b[38;5;124m\"\u001b[39m)\n",
      "File \u001b[1;32m~\\AppData\\Local\\Packages\\PythonSoftwareFoundation.Python.3.12_qbz5n2kfra8p0\\LocalCache\\local-packages\\Python312\\site-packages\\pandas\\core\\internals\\managers.py:430\u001b[0m, in \u001b[0;36mBaseBlockManager.astype\u001b[1;34m(self, dtype, copy, errors)\u001b[0m\n\u001b[0;32m    427\u001b[0m \u001b[38;5;28;01melif\u001b[39;00m using_copy_on_write():\n\u001b[0;32m    428\u001b[0m     copy \u001b[38;5;241m=\u001b[39m \u001b[38;5;28;01mFalse\u001b[39;00m\n\u001b[1;32m--> 430\u001b[0m \u001b[38;5;28;01mreturn\u001b[39;00m \u001b[38;5;28;43mself\u001b[39;49m\u001b[38;5;241;43m.\u001b[39;49m\u001b[43mapply\u001b[49m\u001b[43m(\u001b[49m\n\u001b[0;32m    431\u001b[0m \u001b[43m    \u001b[49m\u001b[38;5;124;43m\"\u001b[39;49m\u001b[38;5;124;43mastype\u001b[39;49m\u001b[38;5;124;43m\"\u001b[39;49m\u001b[43m,\u001b[49m\n\u001b[0;32m    432\u001b[0m \u001b[43m    \u001b[49m\u001b[43mdtype\u001b[49m\u001b[38;5;241;43m=\u001b[39;49m\u001b[43mdtype\u001b[49m\u001b[43m,\u001b[49m\n\u001b[0;32m    433\u001b[0m \u001b[43m    \u001b[49m\u001b[43mcopy\u001b[49m\u001b[38;5;241;43m=\u001b[39;49m\u001b[43mcopy\u001b[49m\u001b[43m,\u001b[49m\n\u001b[0;32m    434\u001b[0m \u001b[43m    \u001b[49m\u001b[43merrors\u001b[49m\u001b[38;5;241;43m=\u001b[39;49m\u001b[43merrors\u001b[49m\u001b[43m,\u001b[49m\n\u001b[0;32m    435\u001b[0m \u001b[43m    \u001b[49m\u001b[43musing_cow\u001b[49m\u001b[38;5;241;43m=\u001b[39;49m\u001b[43musing_copy_on_write\u001b[49m\u001b[43m(\u001b[49m\u001b[43m)\u001b[49m\u001b[43m,\u001b[49m\n\u001b[0;32m    436\u001b[0m \u001b[43m\u001b[49m\u001b[43m)\u001b[49m\n",
      "File \u001b[1;32m~\\AppData\\Local\\Packages\\PythonSoftwareFoundation.Python.3.12_qbz5n2kfra8p0\\LocalCache\\local-packages\\Python312\\site-packages\\pandas\\core\\internals\\managers.py:363\u001b[0m, in \u001b[0;36mBaseBlockManager.apply\u001b[1;34m(self, f, align_keys, **kwargs)\u001b[0m\n\u001b[0;32m    361\u001b[0m         applied \u001b[38;5;241m=\u001b[39m b\u001b[38;5;241m.\u001b[39mapply(f, \u001b[38;5;241m*\u001b[39m\u001b[38;5;241m*\u001b[39mkwargs)\n\u001b[0;32m    362\u001b[0m     \u001b[38;5;28;01melse\u001b[39;00m:\n\u001b[1;32m--> 363\u001b[0m         applied \u001b[38;5;241m=\u001b[39m \u001b[38;5;28;43mgetattr\u001b[39;49m\u001b[43m(\u001b[49m\u001b[43mb\u001b[49m\u001b[43m,\u001b[49m\u001b[43m \u001b[49m\u001b[43mf\u001b[49m\u001b[43m)\u001b[49m\u001b[43m(\u001b[49m\u001b[38;5;241;43m*\u001b[39;49m\u001b[38;5;241;43m*\u001b[39;49m\u001b[43mkwargs\u001b[49m\u001b[43m)\u001b[49m\n\u001b[0;32m    364\u001b[0m     result_blocks \u001b[38;5;241m=\u001b[39m extend_blocks(applied, result_blocks)\n\u001b[0;32m    366\u001b[0m out \u001b[38;5;241m=\u001b[39m \u001b[38;5;28mtype\u001b[39m(\u001b[38;5;28mself\u001b[39m)\u001b[38;5;241m.\u001b[39mfrom_blocks(result_blocks, \u001b[38;5;28mself\u001b[39m\u001b[38;5;241m.\u001b[39maxes)\n",
      "File \u001b[1;32m~\\AppData\\Local\\Packages\\PythonSoftwareFoundation.Python.3.12_qbz5n2kfra8p0\\LocalCache\\local-packages\\Python312\\site-packages\\pandas\\core\\internals\\blocks.py:758\u001b[0m, in \u001b[0;36mBlock.astype\u001b[1;34m(self, dtype, copy, errors, using_cow, squeeze)\u001b[0m\n\u001b[0;32m    755\u001b[0m         \u001b[38;5;28;01mraise\u001b[39;00m \u001b[38;5;167;01mValueError\u001b[39;00m(\u001b[38;5;124m\"\u001b[39m\u001b[38;5;124mCan not squeeze with more than one column.\u001b[39m\u001b[38;5;124m\"\u001b[39m)\n\u001b[0;32m    756\u001b[0m     values \u001b[38;5;241m=\u001b[39m values[\u001b[38;5;241m0\u001b[39m, :]  \u001b[38;5;66;03m# type: ignore[call-overload]\u001b[39;00m\n\u001b[1;32m--> 758\u001b[0m new_values \u001b[38;5;241m=\u001b[39m \u001b[43mastype_array_safe\u001b[49m\u001b[43m(\u001b[49m\u001b[43mvalues\u001b[49m\u001b[43m,\u001b[49m\u001b[43m \u001b[49m\u001b[43mdtype\u001b[49m\u001b[43m,\u001b[49m\u001b[43m \u001b[49m\u001b[43mcopy\u001b[49m\u001b[38;5;241;43m=\u001b[39;49m\u001b[43mcopy\u001b[49m\u001b[43m,\u001b[49m\u001b[43m \u001b[49m\u001b[43merrors\u001b[49m\u001b[38;5;241;43m=\u001b[39;49m\u001b[43merrors\u001b[49m\u001b[43m)\u001b[49m\n\u001b[0;32m    760\u001b[0m new_values \u001b[38;5;241m=\u001b[39m maybe_coerce_values(new_values)\n\u001b[0;32m    762\u001b[0m refs \u001b[38;5;241m=\u001b[39m \u001b[38;5;28;01mNone\u001b[39;00m\n",
      "File \u001b[1;32m~\\AppData\\Local\\Packages\\PythonSoftwareFoundation.Python.3.12_qbz5n2kfra8p0\\LocalCache\\local-packages\\Python312\\site-packages\\pandas\\core\\dtypes\\astype.py:237\u001b[0m, in \u001b[0;36mastype_array_safe\u001b[1;34m(values, dtype, copy, errors)\u001b[0m\n\u001b[0;32m    234\u001b[0m     dtype \u001b[38;5;241m=\u001b[39m dtype\u001b[38;5;241m.\u001b[39mnumpy_dtype\n\u001b[0;32m    236\u001b[0m \u001b[38;5;28;01mtry\u001b[39;00m:\n\u001b[1;32m--> 237\u001b[0m     new_values \u001b[38;5;241m=\u001b[39m \u001b[43mastype_array\u001b[49m\u001b[43m(\u001b[49m\u001b[43mvalues\u001b[49m\u001b[43m,\u001b[49m\u001b[43m \u001b[49m\u001b[43mdtype\u001b[49m\u001b[43m,\u001b[49m\u001b[43m \u001b[49m\u001b[43mcopy\u001b[49m\u001b[38;5;241;43m=\u001b[39;49m\u001b[43mcopy\u001b[49m\u001b[43m)\u001b[49m\n\u001b[0;32m    238\u001b[0m \u001b[38;5;28;01mexcept\u001b[39;00m (\u001b[38;5;167;01mValueError\u001b[39;00m, \u001b[38;5;167;01mTypeError\u001b[39;00m):\n\u001b[0;32m    239\u001b[0m     \u001b[38;5;66;03m# e.g. _astype_nansafe can fail on object-dtype of strings\u001b[39;00m\n\u001b[0;32m    240\u001b[0m     \u001b[38;5;66;03m#  trying to convert to float\u001b[39;00m\n\u001b[0;32m    241\u001b[0m     \u001b[38;5;28;01mif\u001b[39;00m errors \u001b[38;5;241m==\u001b[39m \u001b[38;5;124m\"\u001b[39m\u001b[38;5;124mignore\u001b[39m\u001b[38;5;124m\"\u001b[39m:\n",
      "File \u001b[1;32m~\\AppData\\Local\\Packages\\PythonSoftwareFoundation.Python.3.12_qbz5n2kfra8p0\\LocalCache\\local-packages\\Python312\\site-packages\\pandas\\core\\dtypes\\astype.py:182\u001b[0m, in \u001b[0;36mastype_array\u001b[1;34m(values, dtype, copy)\u001b[0m\n\u001b[0;32m    179\u001b[0m     values \u001b[38;5;241m=\u001b[39m values\u001b[38;5;241m.\u001b[39mastype(dtype, copy\u001b[38;5;241m=\u001b[39mcopy)\n\u001b[0;32m    181\u001b[0m \u001b[38;5;28;01melse\u001b[39;00m:\n\u001b[1;32m--> 182\u001b[0m     values \u001b[38;5;241m=\u001b[39m \u001b[43m_astype_nansafe\u001b[49m\u001b[43m(\u001b[49m\u001b[43mvalues\u001b[49m\u001b[43m,\u001b[49m\u001b[43m \u001b[49m\u001b[43mdtype\u001b[49m\u001b[43m,\u001b[49m\u001b[43m \u001b[49m\u001b[43mcopy\u001b[49m\u001b[38;5;241;43m=\u001b[39;49m\u001b[43mcopy\u001b[49m\u001b[43m)\u001b[49m\n\u001b[0;32m    184\u001b[0m \u001b[38;5;66;03m# in pandas we don't store numpy str dtypes, so convert to object\u001b[39;00m\n\u001b[0;32m    185\u001b[0m \u001b[38;5;28;01mif\u001b[39;00m \u001b[38;5;28misinstance\u001b[39m(dtype, np\u001b[38;5;241m.\u001b[39mdtype) \u001b[38;5;129;01mand\u001b[39;00m \u001b[38;5;28missubclass\u001b[39m(values\u001b[38;5;241m.\u001b[39mdtype\u001b[38;5;241m.\u001b[39mtype, \u001b[38;5;28mstr\u001b[39m):\n",
      "File \u001b[1;32m~\\AppData\\Local\\Packages\\PythonSoftwareFoundation.Python.3.12_qbz5n2kfra8p0\\LocalCache\\local-packages\\Python312\\site-packages\\pandas\\core\\dtypes\\astype.py:133\u001b[0m, in \u001b[0;36m_astype_nansafe\u001b[1;34m(arr, dtype, copy, skipna)\u001b[0m\n\u001b[0;32m    129\u001b[0m     \u001b[38;5;28;01mraise\u001b[39;00m \u001b[38;5;167;01mValueError\u001b[39;00m(msg)\n\u001b[0;32m    131\u001b[0m \u001b[38;5;28;01mif\u001b[39;00m copy \u001b[38;5;129;01mor\u001b[39;00m arr\u001b[38;5;241m.\u001b[39mdtype \u001b[38;5;241m==\u001b[39m \u001b[38;5;28mobject\u001b[39m \u001b[38;5;129;01mor\u001b[39;00m dtype \u001b[38;5;241m==\u001b[39m \u001b[38;5;28mobject\u001b[39m:\n\u001b[0;32m    132\u001b[0m     \u001b[38;5;66;03m# Explicit copy, or required since NumPy can't view from / to object.\u001b[39;00m\n\u001b[1;32m--> 133\u001b[0m     \u001b[38;5;28;01mreturn\u001b[39;00m \u001b[43marr\u001b[49m\u001b[38;5;241;43m.\u001b[39;49m\u001b[43mastype\u001b[49m\u001b[43m(\u001b[49m\u001b[43mdtype\u001b[49m\u001b[43m,\u001b[49m\u001b[43m \u001b[49m\u001b[43mcopy\u001b[49m\u001b[38;5;241;43m=\u001b[39;49m\u001b[38;5;28;43;01mTrue\u001b[39;49;00m\u001b[43m)\u001b[49m\n\u001b[0;32m    135\u001b[0m \u001b[38;5;28;01mreturn\u001b[39;00m arr\u001b[38;5;241m.\u001b[39mastype(dtype, copy\u001b[38;5;241m=\u001b[39mcopy)\n",
      "\u001b[1;31mValueError\u001b[0m: could not convert string to float: 'Failed State Germany '"
     ]
    }
   ],
   "source": [
    "# dtypes = {\n",
    "#     'tweet_id': Use 'Int64' for nullable integers\n",
    "#     'tweet': 'string',\n",
    "#     'likes': 'float64',\n",
    "#     'retweet_count': 'float64',\n",
    "#     'user_id': 'object',  # Large number, but can stay as string\n",
    "#     'user_name': 'object',\n",
    "#     'user_followers_count': 'Int64',  # Use 'Int64' for nullable integers\n",
    "#     'user_location': 'string',  \n",
    "#     'lat': 'float64',\n",
    "#     'long': 'float64',\n",
    "#     'country': 'string',\n",
    "#     'continent': 'string',\n",
    "#     'state': 'string',\n",
    "#     'state_code': 'object'\n",
    "# }\n",
    "\n",
    "# for column, dtype in dtypes.items():\n",
    "#     df_joebiden[column] = df_joebiden[column].astype(dtype)"
   ]
  }
 ],
 "metadata": {
  "kernelspec": {
   "display_name": "venv",
   "language": "python",
   "name": "python3"
  },
  "language_info": {
   "codemirror_mode": {
    "name": "ipython",
    "version": 3
   },
   "file_extension": ".py",
   "mimetype": "text/x-python",
   "name": "python",
   "nbconvert_exporter": "python",
   "pygments_lexer": "ipython3",
   "version": "3.12.6"
  }
 },
 "nbformat": 4,
 "nbformat_minor": 2
}
