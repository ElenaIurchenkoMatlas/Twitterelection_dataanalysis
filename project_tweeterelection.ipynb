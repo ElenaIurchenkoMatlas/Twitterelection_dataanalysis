{
 "cells": [
  {
   "cell_type": "code",
   "execution_count": 1,
   "metadata": {},
   "outputs": [
    {
     "name": "stdout",
     "output_type": "stream",
     "text": [
      "Data loaded successfully.\n",
      "            created_at                tweet_id  \\\n",
      "0  2020-10-15 00:00:01   1.316529221557252e+18   \n",
      "1  2020-10-15 00:00:18    1.31652929585929e+18   \n",
      "2  2020-10-15 00:00:20  1.3165293050069524e+18   \n",
      "3  2020-10-15 00:00:21  1.3165293080815575e+18   \n",
      "4  2020-10-15 00:00:22   1.316529312741253e+18   \n",
      "\n",
      "                                               tweet likes  retweet_count  \\\n",
      "0  #Elecciones2020 | En #Florida: #JoeBiden dice ...   0.0            0.0   \n",
      "1  #HunterBiden #HunterBidenEmails #JoeBiden #Joe...   0.0            0.0   \n",
      "2  @IslandGirlPRV @BradBeauregardJ @MeidasTouch T...   0.0            0.0   \n",
      "3  @chrislongview Watching and setting dvr. Let’s...   0.0            0.0   \n",
      "4  #censorship #HunterBiden #Biden #BidenEmails #...   1.0            0.0   \n",
      "\n",
      "                 user_id user_screen_name       user_join_date  \\\n",
      "0            360666534.0  elsollatinonews  2011-08-23 15:33:45   \n",
      "1            809904438.0     Biloximeemaw  2012-09-08 01:03:57   \n",
      "2           3494182277.0      Flag_Wavers  2015-08-30 19:38:21   \n",
      "3  8.242596012018524e+17    MichelleFerg4  2017-01-25 14:16:17   \n",
      "4  1.032806955356545e+18    theegoldstate  2018-08-24 01:49:01   \n",
      "\n",
      "  user_followers_count                 user_location         lat  \\\n",
      "0               1860.0  Philadelphia, PA / Miami, FL    25.77427   \n",
      "1               6628.0                           NaN         NaN   \n",
      "2               1536.0         Golden Valley Arizona  46.3040364   \n",
      "3                 27.0                           NaN         NaN   \n",
      "4                390.0               California, USA  36.7014631   \n",
      "\n",
      "                  long                   country      continent       state  \\\n",
      "0            -80.19366  United States of America  North America     Florida   \n",
      "1                  NaN                       NaN            NaN         NaN   \n",
      "2  -109.17143119999999  United States of America  North America     Montana   \n",
      "3                  NaN                       NaN            NaN         NaN   \n",
      "4  -118.75599740000001  United States of America  North America  California   \n",
      "\n",
      "  state_code                   collected_at  \n",
      "0         FL            2020-10-21 00:00:00  \n",
      "1        NaN  2020-10-21 00:00:00.517827283  \n",
      "2         MT  2020-10-21 00:00:01.035654566  \n",
      "3        NaN  2020-10-21 00:00:01.553481849  \n",
      "4         CA  2020-10-21 00:00:02.071309132  \n",
      "            created_at                tweet_id  \\\n",
      "0  2020-10-15 00:00:01   1.316529221557252e+18   \n",
      "1  2020-10-15 00:00:18    1.31652929585929e+18   \n",
      "2  2020-10-15 00:00:20  1.3165293050069524e+18   \n",
      "3  2020-10-15 00:00:21  1.3165293080815575e+18   \n",
      "4  2020-10-15 00:00:22   1.316529312741253e+18   \n",
      "\n",
      "                                               tweet likes  retweet_count  \\\n",
      "0  #Elecciones2020 | En #Florida: #JoeBiden dice ...   0.0            0.0   \n",
      "1  #HunterBiden #HunterBidenEmails #JoeBiden #Joe...   0.0            0.0   \n",
      "2  @IslandGirlPRV @BradBeauregardJ @MeidasTouch T...   0.0            0.0   \n",
      "3  @chrislongview Watching and setting dvr. Let’s...   0.0            0.0   \n",
      "4  #censorship #HunterBiden #Biden #BidenEmails #...   1.0            0.0   \n",
      "\n",
      "                 user_id user_screen_name       user_join_date  \\\n",
      "0            360666534.0  elsollatinonews  2011-08-23 15:33:45   \n",
      "1            809904438.0     Biloximeemaw  2012-09-08 01:03:57   \n",
      "2           3494182277.0      Flag_Wavers  2015-08-30 19:38:21   \n",
      "3  8.242596012018524e+17    MichelleFerg4  2017-01-25 14:16:17   \n",
      "4  1.032806955356545e+18    theegoldstate  2018-08-24 01:49:01   \n",
      "\n",
      "  user_followers_count                 user_location         lat  \\\n",
      "0               1860.0  Philadelphia, PA / Miami, FL    25.77427   \n",
      "1               6628.0                           NaN         NaN   \n",
      "2               1536.0         Golden Valley Arizona  46.3040364   \n",
      "3                 27.0                           NaN         NaN   \n",
      "4                390.0               California, USA  36.7014631   \n",
      "\n",
      "                  long                   country      continent       state  \\\n",
      "0            -80.19366  United States of America  North America     Florida   \n",
      "1                  NaN                       NaN            NaN         NaN   \n",
      "2  -109.17143119999999  United States of America  North America     Montana   \n",
      "3                  NaN                       NaN            NaN         NaN   \n",
      "4  -118.75599740000001  United States of America  North America  California   \n",
      "\n",
      "  state_code                   collected_at  \n",
      "0         FL            2020-10-21 00:00:00  \n",
      "1        NaN  2020-10-21 00:00:00.517827283  \n",
      "2         MT  2020-10-21 00:00:01.035654566  \n",
      "3        NaN  2020-10-21 00:00:01.553481849  \n",
      "4         CA  2020-10-21 00:00:02.071309132  \n",
      "            created_at                tweet_id  \\\n",
      "0  2020-10-15 00:00:01   1.316529221557252e+18   \n",
      "1  2020-10-15 00:00:01  1.3165292227484303e+18   \n",
      "2  2020-10-15 00:00:02   1.316529228091847e+18   \n",
      "3  2020-10-15 00:00:02   1.316529227471237e+18   \n",
      "4  2020-10-15 00:00:08  1.3165292523014513e+18   \n",
      "\n",
      "                                               tweet likes  retweet_count  \\\n",
      "0  #Elecciones2020 | En #Florida: #JoeBiden dice ...   0.0            0.0   \n",
      "1  Usa 2020, Trump contro Facebook e Twitter: cop...  26.0            9.0   \n",
      "2  #Trump: As a student I used to hear for years,...   2.0            1.0   \n",
      "3  2 hours since last tweet from #Trump! Maybe he...   0.0            0.0   \n",
      "4  You get a tie! And you get a tie! #Trump ‘s ra...   4.0            3.0   \n",
      "\n",
      "                user_id user_screen_name       user_join_date  \\\n",
      "0           360666534.0  elsollatinonews  2011-08-23 15:33:45   \n",
      "1           331617619.0  MediasetTgcom24  2011-07-08 13:12:20   \n",
      "2             8436472.0           snarke  2007-08-26 05:56:11   \n",
      "3  8.28355589206057e+17    trumpytweeter  2017-02-05 21:32:17   \n",
      "4            47413798.0        Ranaabtar  2009-06-15 19:05:35   \n",
      "\n",
      "  user_followers_count                 user_location         lat  \\\n",
      "0               1860.0  Philadelphia, PA / Miami, FL    25.77427   \n",
      "1            1067661.0                           NaN         NaN   \n",
      "2               1185.0                      Portland  45.5202471   \n",
      "3                 32.0                           NaN         NaN   \n",
      "4               5393.0                 Washington DC  38.8949924   \n",
      "\n",
      "           long                   country      continent  \\\n",
      "0     -80.19366  United States of America  North America   \n",
      "1           NaN                       NaN            NaN   \n",
      "2  -122.6741949  United States of America  North America   \n",
      "3           NaN                       NaN            NaN   \n",
      "4   -77.0365581  United States of America  North America   \n",
      "\n",
      "                  state state_code                   collected_at  \n",
      "0               Florida         FL            2020-10-21 00:00:00  \n",
      "1                   NaN        NaN  2020-10-21 00:00:00.373216530  \n",
      "2                Oregon         OR  2020-10-21 00:00:00.746433060  \n",
      "3                   NaN        NaN  2020-10-21 00:00:01.119649591  \n",
      "4  District of Columbia         DC  2020-10-21 00:00:01.492866121  \n"
     ]
    }
   ],
   "source": [
    "import pandas as pd\n",
    "import seaborn as sns\n",
    "import matplotlib.pyplot as plt\n",
    "\n",
    "# Path to data\n",
    "file_path_joebiden = r'C:\\Users\\iurch\\OneDrive\\DataCircle\\project_data\\hashtag_joebiden.csv'\n",
    "file_path_donaldtrump = r'C:\\Users\\iurch\\OneDrive\\DataCircle\\project_data\\hashtag_donaldtrump.csv'\n",
    "\n",
    "\n",
    "#Columns to read\n",
    "columns_to_read = ['created_at', 'tweet_id', 'tweet','likes', 'retweet_count','user_id', 'user_screen_name', 'user_join_date', 'user_followers_count', \n",
    "                   'user_location', 'lat', 'long','country', 'continent', 'state', 'state_code','collected_at']\n",
    "\n",
    "try:\n",
    "    df_joebiden = pd.read_csv(file_path_joebiden, usecols=columns_to_read,  engine='python')\n",
    "    df_donaldtrump = pd.read_csv(file_path_donaldtrump, usecols=columns_to_read, engine='python')\n",
    "    print(\"Data loaded successfully.\")\n",
    "    print(df_joebiden.head())\n",
    "except Exception as e:\n",
    "    print(\"Error loading data:\", e)\n",
    "\n",
    "print(df_joebiden.head())\n",
    "print(df_donaldtrump.head())\n"
   ]
  },
  {
   "cell_type": "code",
   "execution_count": 2,
   "metadata": {},
   "outputs": [
    {
     "name": "stdout",
     "output_type": "stream",
     "text": [
      "\n",
      "Donald Trump Data:\n",
      "<class 'pandas.core.frame.DataFrame'>\n",
      "RangeIndex: 971087 entries, 0 to 971086\n",
      "Data columns (total 17 columns):\n",
      " #   Column                Non-Null Count   Dtype  \n",
      "---  ------                --------------   -----  \n",
      " 0   created_at            971087 non-null  object \n",
      " 1   tweet_id              971073 non-null  object \n",
      " 2   tweet                 971073 non-null  object \n",
      " 3   likes                 971045 non-null  object \n",
      " 4   retweet_count         970933 non-null  float64\n",
      " 5   user_id               970929 non-null  object \n",
      " 6   user_screen_name      970933 non-null  object \n",
      " 7   user_join_date        970779 non-null  object \n",
      " 8   user_followers_count  970917 non-null  object \n",
      " 9   user_location         675830 non-null  object \n",
      " 10  lat                   445702 non-null  object \n",
      " 11  long                  445705 non-null  object \n",
      " 12  country               442732 non-null  object \n",
      " 13  continent             442749 non-null  object \n",
      " 14  state                 320614 non-null  object \n",
      " 15  state_code            300414 non-null  object \n",
      " 16  collected_at          970765 non-null  object \n",
      "dtypes: float64(1), object(16)\n",
      "memory usage: 125.9+ MB\n",
      "None\n"
     ]
    }
   ],
   "source": [
    "# Display basic information about the datasets\n",
    "print(\"\\nDonald Trump Data:\")\n",
    "print(df_donaldtrump.info())"
   ]
  },
  {
   "cell_type": "code",
   "execution_count": 3,
   "metadata": {},
   "outputs": [
    {
     "name": "stdout",
     "output_type": "stream",
     "text": [
      "\n",
      "Joe Biden Data:\n",
      "<class 'pandas.core.frame.DataFrame'>\n",
      "RangeIndex: 777073 entries, 0 to 777072\n",
      "Data columns (total 17 columns):\n",
      " #   Column                Non-Null Count   Dtype  \n",
      "---  ------                --------------   -----  \n",
      " 0   created_at            777073 non-null  object \n",
      " 1   tweet_id              776995 non-null  object \n",
      " 2   tweet                 776995 non-null  object \n",
      " 3   likes                 776914 non-null  object \n",
      " 4   retweet_count         776895 non-null  float64\n",
      " 5   user_id               776889 non-null  object \n",
      " 6   user_screen_name      776895 non-null  object \n",
      " 7   user_join_date        776784 non-null  object \n",
      " 8   user_followers_count  776885 non-null  object \n",
      " 9   user_location         543063 non-null  object \n",
      " 10  lat                   355284 non-null  object \n",
      " 11  long                  355284 non-null  object \n",
      " 12  country               353770 non-null  object \n",
      " 13  continent             353788 non-null  object \n",
      " 14  state                 260191 non-null  object \n",
      " 15  state_code            244603 non-null  object \n",
      " 16  collected_at          776777 non-null  object \n",
      "dtypes: float64(1), object(16)\n",
      "memory usage: 100.8+ MB\n",
      "None\n"
     ]
    }
   ],
   "source": [
    "print(\"\\nJoe Biden Data:\")\n",
    "print(df_joebiden.info())"
   ]
  },
  {
   "cell_type": "code",
   "execution_count": 4,
   "metadata": {},
   "outputs": [
    {
     "name": "stdout",
     "output_type": "stream",
     "text": [
      "created_at              datetime64[ns]\n",
      "tweet_id                        object\n",
      "tweet                           object\n",
      "likes                           object\n",
      "retweet_count                  float64\n",
      "user_id                         object\n",
      "user_screen_name                object\n",
      "user_join_date          datetime64[ns]\n",
      "user_followers_count            object\n",
      "user_location                   object\n",
      "lat                             object\n",
      "long                            object\n",
      "country                         object\n",
      "continent                       object\n",
      "state                           object\n",
      "state_code                      object\n",
      "collected_at            datetime64[ns]\n",
      "dtype: object\n"
     ]
    }
   ],
   "source": [
    "# Transforming dtypes joebiden Data\n",
    "# columns to datetime\n",
    "parse_dates = ['created_at', 'user_join_date', 'collected_at']\n",
    "for date_column in parse_dates:\n",
    "    df_joebiden[date_column] = pd.to_datetime(df_joebiden[date_column], errors='coerce')\n",
    "\n",
    "print(df_joebiden.dtypes) "
   ]
  },
  {
   "cell_type": "code",
   "execution_count": 5,
   "metadata": {},
   "outputs": [
    {
     "name": "stdout",
     "output_type": "stream",
     "text": [
      "created_at              datetime64[ns]\n",
      "tweet_id                        object\n",
      "tweet                           object\n",
      "likes                           object\n",
      "retweet_count                  float64\n",
      "user_id                         object\n",
      "user_screen_name                object\n",
      "user_join_date          datetime64[ns]\n",
      "user_followers_count            object\n",
      "user_location                   object\n",
      "lat                             object\n",
      "long                            object\n",
      "country                         object\n",
      "continent                       object\n",
      "state                           object\n",
      "state_code                      object\n",
      "collected_at            datetime64[ns]\n",
      "dtype: object\n"
     ]
    }
   ],
   "source": [
    "# Transforming dtypes donald trump Data\n",
    "# columns to datetime\n",
    "parse_dates = ['created_at', 'user_join_date', 'collected_at']\n",
    "for date_column in parse_dates:\n",
    "    df_donaldtrump[date_column] = pd.to_datetime(df_donaldtrump[date_column], errors='coerce')\n",
    "\n",
    "print(df_donaldtrump.dtypes) "
   ]
  },
  {
   "cell_type": "markdown",
   "metadata": {},
   "source": [
    "Now we have to transform columns to the right datatype\n",
    "tweet_id                        int64\n",
    "tweet                           str\n",
    "likes                           float64\n",
    "retweet_count                  float64\n",
    "user_id                         object\n",
    "user_name                       object\n",
    "user_join_date          datetime64[ns]\n",
    "user_followers_count            object\n",
    "user_location                   object\n",
    "lat                             object\n",
    "long                            object\n",
    "country                         object\n",
    "continent                       object\n",
    "state                           object\n",
    "state_code                      object"
   ]
  },
  {
   "cell_type": "code",
   "execution_count": 6,
   "metadata": {},
   "outputs": [],
   "source": [
    "# Convert 'tweet_id' to numeric, invalid parsing will be set as NaN\n",
    "df_joebiden['tweet_id_numeric'] = pd.to_numeric(df_joebiden['tweet_id'], errors='coerce')\n",
    "# Trump Tweet_ID\n",
    "df_donaldtrump['tweet_id_numeric'] = pd.to_numeric(df_donaldtrump['tweet_id'], errors='coerce')"
   ]
  },
  {
   "cell_type": "code",
   "execution_count": 7,
   "metadata": {},
   "outputs": [],
   "source": [
    "# Drop rows where 'tweet_id_numeric' is NaN \n",
    "df_joebiden = df_joebiden.dropna(subset=['tweet_id_numeric'])\n",
    "# Trump Tweet_ID\n",
    "df_donaldtrump = df_donaldtrump.dropna(subset=['tweet_id_numeric'])"
   ]
  },
  {
   "cell_type": "code",
   "execution_count": 8,
   "metadata": {},
   "outputs": [],
   "source": [
    "# Now convert 'tweet_id_numeric' to 'int64'\n",
    "df_joebiden['tweet_id_numeric'] = df_joebiden['tweet_id_numeric'].astype('int64')\n",
    "# Trump Tweet_ID\n",
    "df_donaldtrump['tweet_id_numeric'] = df_donaldtrump['tweet_id_numeric'].astype('int64')"
   ]
  },
  {
   "cell_type": "code",
   "execution_count": 9,
   "metadata": {},
   "outputs": [
    {
     "data": {
      "text/plain": [
       "<bound method Series.info of 0         1316529221557252096\n",
       "1         1316529222748430336\n",
       "2         1316529228091846912\n",
       "3         1316529227471237120\n",
       "4         1316529252301451264\n",
       "                 ...         \n",
       "971082    1325588843488276480\n",
       "971083    1325588866045194240\n",
       "971084    1325588885515227136\n",
       "971085    1325588892905402368\n",
       "971086    1325588894482534400\n",
       "Name: tweet_id_numeric, Length: 970926, dtype: int64>"
      ]
     },
     "execution_count": 9,
     "metadata": {},
     "output_type": "execute_result"
    }
   ],
   "source": [
    "#Check\n",
    "df_joebiden['tweet_id_numeric'].info\n",
    "df_donaldtrump['tweet_id_numeric'].info"
   ]
  },
  {
   "cell_type": "code",
   "execution_count": 10,
   "metadata": {},
   "outputs": [],
   "source": [
    "# Drop the old 'tweet_id' column \n",
    "df_joebiden = df_joebiden.drop(columns=['tweet_id']).rename(columns={'tweet_id_numeric': 'tweet_id'})\n",
    "df_donaldtrump = df_donaldtrump.drop(columns=['tweet_id']).rename(columns={'tweet_id_numeric': 'tweet_id'})"
   ]
  },
  {
   "cell_type": "code",
   "execution_count": 11,
   "metadata": {},
   "outputs": [
    {
     "data": {
      "text/plain": [
       "1856"
      ]
     },
     "execution_count": 11,
     "metadata": {},
     "output_type": "execute_result"
    }
   ],
   "source": [
    "#Cheking duplicates\n",
    "df_joebiden['tweet_id'].duplicated().sum()"
   ]
  },
  {
   "cell_type": "code",
   "execution_count": 12,
   "metadata": {},
   "outputs": [],
   "source": [
    "df_joebiden = df_joebiden.drop_duplicates(subset=['tweet_id'])"
   ]
  },
  {
   "cell_type": "code",
   "execution_count": 13,
   "metadata": {},
   "outputs": [
    {
     "data": {
      "text/plain": [
       "1347"
      ]
     },
     "execution_count": 13,
     "metadata": {},
     "output_type": "execute_result"
    }
   ],
   "source": [
    "df_donaldtrump['tweet_id'].duplicated().sum()"
   ]
  },
  {
   "cell_type": "code",
   "execution_count": 14,
   "metadata": {},
   "outputs": [
    {
     "data": {
      "text/plain": [
       "0"
      ]
     },
     "execution_count": 14,
     "metadata": {},
     "output_type": "execute_result"
    }
   ],
   "source": [
    "df_donaldtrump = df_donaldtrump.drop_duplicates(subset=['tweet_id'])\n",
    "df_donaldtrump['tweet_id'].duplicated().sum()"
   ]
  },
  {
   "cell_type": "code",
   "execution_count": 15,
   "metadata": {},
   "outputs": [],
   "source": [
    "#Converting 'tweet' column to string format\n",
    "df_joebiden['tweet'] = df_joebiden['tweet'].astype(str)\n",
    "df_donaldtrump['tweet'] = df_donaldtrump['tweet'].astype(str)"
   ]
  },
  {
   "cell_type": "code",
   "execution_count": 16,
   "metadata": {},
   "outputs": [
    {
     "data": {
      "text/plain": [
       "6649"
      ]
     },
     "execution_count": 16,
     "metadata": {},
     "output_type": "execute_result"
    }
   ],
   "source": [
    "df_joebiden['tweet'].duplicated().sum()"
   ]
  },
  {
   "cell_type": "code",
   "execution_count": 17,
   "metadata": {},
   "outputs": [
    {
     "data": {
      "text/plain": [
       "11043"
      ]
     },
     "execution_count": 17,
     "metadata": {},
     "output_type": "execute_result"
    }
   ],
   "source": [
    "df_donaldtrump['tweet'].duplicated().sum()"
   ]
  },
  {
   "cell_type": "code",
   "execution_count": 18,
   "metadata": {},
   "outputs": [],
   "source": [
    "# Drop duplicates based on 'tweet' column for the entire DataFrame\n",
    "df_joebiden = df_joebiden.drop_duplicates(subset=['tweet'])\n",
    "df_donaldtrump = df_donaldtrump.drop_duplicates(subset=['tweet'])"
   ]
  },
  {
   "cell_type": "code",
   "execution_count": 19,
   "metadata": {},
   "outputs": [],
   "source": [
    "#Likes column cleaning\n",
    "\n",
    "# Convert 'likes' to numeric, invalid parsing will be set as NaN\n",
    "df_joebiden['likes_numeric'] = pd.to_numeric(df_joebiden['likes'], errors='coerce')\n",
    "# Trump likes\n",
    "df_donaldtrump['likes_numeric'] = pd.to_numeric(df_donaldtrump['likes'], errors='coerce')"
   ]
  },
  {
   "cell_type": "code",
   "execution_count": 20,
   "metadata": {},
   "outputs": [],
   "source": [
    "# Drop rows where 'likes_numeric' is NaN \n",
    "df_joebiden = df_joebiden.dropna(subset=['likes_numeric'])\n",
    "# Trump Tweet_ID\n",
    "df_donaldtrump = df_donaldtrump.dropna(subset=['likes_numeric'])"
   ]
  },
  {
   "cell_type": "code",
   "execution_count": 21,
   "metadata": {},
   "outputs": [],
   "source": [
    "# Now convert 'likes_numeric' to 'float64'\n",
    "# Use .loc[] to avoid SettingWithCopyWarning\n",
    "df_joebiden.loc[:, 'likes_numeric'] = df_joebiden['likes_numeric'].astype('float64')\n",
    "#Trump likes column\n",
    "df_donaldtrump.loc[:, 'likes_numeric'] = df_donaldtrump['likes_numeric'].astype('float64')\n"
   ]
  },
  {
   "cell_type": "code",
   "execution_count": 22,
   "metadata": {},
   "outputs": [
    {
     "data": {
      "text/plain": [
       "<bound method Series.info of 0           0.0\n",
       "1          26.0\n",
       "2           2.0\n",
       "3           0.0\n",
       "4           4.0\n",
       "          ...  \n",
       "971082      0.0\n",
       "971083      4.0\n",
       "971084     25.0\n",
       "971085      0.0\n",
       "971086    105.0\n",
       "Name: likes_numeric, Length: 958528, dtype: float64>"
      ]
     },
     "execution_count": 22,
     "metadata": {},
     "output_type": "execute_result"
    }
   ],
   "source": [
    "#Check\n",
    "df_joebiden['likes_numeric'].info\n",
    "df_donaldtrump['likes_numeric'].info"
   ]
  },
  {
   "cell_type": "code",
   "execution_count": 23,
   "metadata": {},
   "outputs": [],
   "source": [
    "# Drop the old 'likes' column \n",
    "df_joebiden = df_joebiden.drop(columns=['likes']).rename(columns={'likes_numeric': 'likes'})\n",
    "df_donaldtrump = df_donaldtrump.drop(columns=['likes']).rename(columns={'likes_numeric': 'likes'})"
   ]
  },
  {
   "cell_type": "code",
   "execution_count": 24,
   "metadata": {},
   "outputs": [
    {
     "name": "stdout",
     "output_type": "stream",
     "text": [
      "0\n"
     ]
    }
   ],
   "source": [
    "# Check how many duplicate rows there are based on 'tweet_id' and 'likes'\n",
    "num_duplicates = df_joebiden.duplicated(subset=['tweet_id', 'likes']).sum()\n",
    "print(num_duplicates)\n"
   ]
  },
  {
   "cell_type": "code",
   "execution_count": 25,
   "metadata": {},
   "outputs": [
    {
     "name": "stdout",
     "output_type": "stream",
     "text": [
      "0\n"
     ]
    }
   ],
   "source": [
    "# Check how many duplicate rows there are based on 'tweet_id' and 'likes'\n",
    "num_duplicates = df_donaldtrump.duplicated(subset=['tweet_id', 'likes']).sum()\n",
    "print(num_duplicates)\n"
   ]
  },
  {
   "cell_type": "code",
   "execution_count": 26,
   "metadata": {},
   "outputs": [
    {
     "name": "stdout",
     "output_type": "stream",
     "text": [
      "Index(['created_at', 'tweet', 'retweet_count', 'user_id', 'user_screen_name',\n",
      "       'user_join_date', 'user_followers_count', 'user_location', 'lat',\n",
      "       'long', 'country', 'continent', 'state', 'state_code', 'collected_at',\n",
      "       'tweet_id', 'likes'],\n",
      "      dtype='object')\n"
     ]
    }
   ],
   "source": [
    "print(df_joebiden.columns)"
   ]
  },
  {
   "cell_type": "code",
   "execution_count": 27,
   "metadata": {},
   "outputs": [
    {
     "data": {
      "text/plain": [
       "0"
      ]
     },
     "execution_count": 27,
     "metadata": {},
     "output_type": "execute_result"
    }
   ],
   "source": [
    "nan_likes_joe_biden = df_joebiden['likes'].isna().sum()\n",
    "nan_likes_joe_biden"
   ]
  },
  {
   "cell_type": "code",
   "execution_count": 28,
   "metadata": {},
   "outputs": [
    {
     "data": {
      "text/plain": [
       "0"
      ]
     },
     "execution_count": 28,
     "metadata": {},
     "output_type": "execute_result"
    }
   ],
   "source": [
    "nan_likes_trump = df_donaldtrump['likes'].isna().sum()\n",
    "nan_likes_trump"
   ]
  },
  {
   "cell_type": "code",
   "execution_count": 29,
   "metadata": {},
   "outputs": [
    {
     "data": {
      "text/plain": [
       "0"
      ]
     },
     "execution_count": 29,
     "metadata": {},
     "output_type": "execute_result"
    }
   ],
   "source": [
    "#Retweet column\n",
    "\n",
    "nan_retweets_biden = df_joebiden['retweet_count'].isna().sum()\n",
    "nan_retweets_biden"
   ]
  },
  {
   "cell_type": "code",
   "execution_count": 30,
   "metadata": {},
   "outputs": [
    {
     "data": {
      "text/plain": [
       "0"
      ]
     },
     "execution_count": 30,
     "metadata": {},
     "output_type": "execute_result"
    }
   ],
   "source": [
    "nan_retweets_trump = df_donaldtrump['retweet_count'].isna().sum()\n",
    "nan_retweets_trump"
   ]
  },
  {
   "cell_type": "code",
   "execution_count": 31,
   "metadata": {},
   "outputs": [
    {
     "name": "stdout",
     "output_type": "stream",
     "text": [
      "0\n"
     ]
    }
   ],
   "source": [
    "# Check how many duplicate rows there are based on 'tweet_id' and 'retweet'\n",
    "retweet_duplicates_trump = df_donaldtrump.duplicated(subset=['tweet_id', 'retweet_count']).sum()\n",
    "print(retweet_duplicates_trump)"
   ]
  },
  {
   "cell_type": "code",
   "execution_count": 32,
   "metadata": {},
   "outputs": [
    {
     "name": "stdout",
     "output_type": "stream",
     "text": [
      "0\n"
     ]
    }
   ],
   "source": [
    "# Check how many duplicate rows there are based on 'tweet_id' and 'retweet'\n",
    "retweet_duplicates_biden = df_joebiden.duplicated(subset=['tweet_id', 'retweet_count']).sum()\n",
    "print(retweet_duplicates_biden)"
   ]
  },
  {
   "cell_type": "code",
   "execution_count": null,
   "metadata": {},
   "outputs": [],
   "source": []
  },
  {
   "cell_type": "markdown",
   "metadata": {},
   "source": [
    "Tweets frequency for each candidate over time period"
   ]
  },
  {
   "cell_type": "code",
   "execution_count": 33,
   "metadata": {},
   "outputs": [
    {
     "data": {
      "image/png": "[encoded data removed]",
      "text/plain": [
       "<Figure size 1000x600 with 1 Axes>"
      ]
     },
     "metadata": {},
     "output_type": "display_data"
    }
   ],
   "source": [
    "import matplotlib.pyplot as plt\n",
    "\n",
    "# Group by date and count tweets for Biden\n",
    "tweet_frequency_biden = df_joebiden.groupby(df_joebiden['created_at'].dt.date)['tweet_id'].count()\n",
    "\n",
    "# Group by date and count tweets for Trump\n",
    "tweet_frequency_trump = df_donaldtrump.groupby(df_donaldtrump['created_at'].dt.date)['tweet_id'].count()\n",
    "\n",
    "# Plot\n",
    "plt.figure(figsize=(10, 6))\n",
    "plt.plot(tweet_frequency_biden.index, tweet_frequency_biden.values, label='Biden', color='blue')\n",
    "plt.plot(tweet_frequency_trump.index, tweet_frequency_trump.values, label='Trump', color='red')\n",
    "\n",
    "plt.title('Tweet Frequency Over Time for Biden and Trump')\n",
    "plt.xlabel('Date')\n",
    "plt.ylabel('Number of Tweets')\n",
    "\n",
    "plt.legend()\n",
    "\n",
    "plt.show()\n"
   ]
  },
  {
   "cell_type": "markdown",
   "metadata": {},
   "source": [
    "User activity "
   ]
  },
  {
   "cell_type": "code",
   "execution_count": 34,
   "metadata": {},
   "outputs": [
    {
     "name": "stdout",
     "output_type": "stream",
     "text": [
      "user_id\n",
      "1.2449822077033308e+18    1259\n",
      "74268619.0                1163\n",
      "874258472.0               1059\n",
      "23954327.0                 922\n",
      "1.0247779165409649e+18     560\n",
      "755798016.0                517\n",
      "1.2423507214643364e+18     486\n",
      "1.304249338504401e+18      476\n",
      "54361678.0                 456\n",
      "386395062.0                442\n",
      "Name: tweet_id, dtype: int64\n"
     ]
    }
   ],
   "source": [
    "# Tweets per user for biden\n",
    "user_activity_biden = df_joebiden.groupby('user_id')['tweet_id'].count().sort_values(ascending=False)\n",
    "\n",
    "# Display top 10 most active users\n",
    "print(user_activity_biden.head(10))"
   ]
  },
  {
   "cell_type": "code",
   "execution_count": 35,
   "metadata": {},
   "outputs": [
    {
     "name": "stdout",
     "output_type": "stream",
     "text": [
      "user_id\n",
      "74268619.0                1352\n",
      "40173650.0                1324\n",
      "4132841.0                  980\n",
      "386395062.0                959\n",
      "23954327.0                 921\n",
      "1.0119529969079624e+18     895\n",
      "208607949.0                852\n",
      "1.1549521668152812e+18     785\n",
      "1.1997681328327762e+18     760\n",
      "9.751178113653596e+17      709\n",
      "Name: tweet_id, dtype: int64\n"
     ]
    }
   ],
   "source": [
    "# Tweets per user for trump\n",
    "user_activity_trump = df_donaldtrump.groupby('user_id')['tweet_id'].count().sort_values(ascending=False)\n",
    "\n",
    "# Display top 10 most active users\n",
    "print(user_activity_trump.head(10))"
   ]
  },
  {
   "cell_type": "code",
   "execution_count": 37,
   "metadata": {},
   "outputs": [
    {
     "name": "stdout",
     "output_type": "stream",
     "text": [
      "<class 'pandas.core.frame.DataFrame'>\n",
      "Index: 768380 entries, 0 to 777072\n",
      "Data columns (total 17 columns):\n",
      " #   Column                Non-Null Count   Dtype         \n",
      "---  ------                --------------   -----         \n",
      " 0   created_at            768380 non-null  datetime64[ns]\n",
      " 1   tweet                 768380 non-null  object        \n",
      " 2   retweet_count         768380 non-null  float64       \n",
      " 3   user_id               768380 non-null  object        \n",
      " 4   user_screen_name      768380 non-null  object        \n",
      " 5   user_join_date        768274 non-null  datetime64[ns]\n",
      " 6   user_followers_count  768274 non-null  object        \n",
      " 7   user_location         537655 non-null  object        \n",
      " 8   lat                   351707 non-null  object        \n",
      " 9   long                  351707 non-null  object        \n",
      " 10  country               350196 non-null  object        \n",
      " 11  continent             350214 non-null  object        \n",
      " 12  state                 257649 non-null  object        \n",
      " 13  state_code            242153 non-null  object        \n",
      " 14  collected_at          5 non-null       datetime64[ns]\n",
      " 15  tweet_id              768380 non-null  int64         \n",
      " 16  likes                 768380 non-null  float64       \n",
      "dtypes: datetime64[ns](3), float64(2), int64(1), object(11)\n",
      "memory usage: 105.5+ MB\n",
      "<class 'pandas.core.frame.DataFrame'>\n",
      "Index: 958528 entries, 0 to 971086\n",
      "Data columns (total 17 columns):\n",
      " #   Column                Non-Null Count   Dtype         \n",
      "---  ------                --------------   -----         \n",
      " 0   created_at            958528 non-null  datetime64[ns]\n",
      " 1   tweet                 958528 non-null  object        \n",
      " 2   retweet_count         958528 non-null  float64       \n",
      " 3   user_id               958528 non-null  object        \n",
      " 4   user_screen_name      958528 non-null  object        \n",
      " 5   user_join_date        958433 non-null  datetime64[ns]\n",
      " 6   user_followers_count  958433 non-null  object        \n",
      " 7   user_location         668005 non-null  object        \n",
      " 8   lat                   440435 non-null  object        \n",
      " 9   long                  440435 non-null  object        \n",
      " 10  country               437483 non-null  object        \n",
      " 11  continent             437500 non-null  object        \n",
      " 12  state                 316800 non-null  object        \n",
      " 13  state_code            296724 non-null  object        \n",
      " 14  collected_at          2 non-null       datetime64[ns]\n",
      " 15  tweet_id              958528 non-null  int64         \n",
      " 16  likes                 958528 non-null  float64       \n",
      "dtypes: datetime64[ns](3), float64(2), int64(1), object(11)\n",
      "memory usage: 131.6+ MB\n"
     ]
    }
   ],
   "source": [
    "df_joebiden.info()"
   ]
  },
  {
   "cell_type": "code",
   "execution_count": 38,
   "metadata": {},
   "outputs": [],
   "source": [
    "# Columns to convert to numeric\n",
    "columns_to_convert = ['user_id', 'user_followers_count', 'lat', 'long']\n",
    "#Biden\n",
    "df_joebiden['user_id_numeric'] = pd.to_numeric(df_joebiden['user_id'], errors='coerce')\n",
    "df_joebiden['user_followers_count_numeric'] = pd.to_numeric(df_joebiden['user_followers_count'], errors='coerce')\n",
    "df_joebiden['lat_numeric'] = pd.to_numeric(df_joebiden['lat'], errors='coerce')\n",
    "df_joebiden['long_numeric'] = pd.to_numeric(df_joebiden['long'], errors='coerce')\n",
    "# Trump \n",
    "df_donaldtrump['user_id_numeric'] = pd.to_numeric(df_donaldtrump['user_id'], errors='coerce')\n",
    "df_donaldtrump['user_followers_count_numeric'] = pd.to_numeric(df_donaldtrump['user_followers_count'], errors='coerce')\n",
    "df_donaldtrump['lat_numeric'] = pd.to_numeric(df_donaldtrump['lat'], errors='coerce')\n",
    "df_donaldtrump['long_numeric'] = pd.to_numeric(df_donaldtrump['long'], errors='coerce')"
   ]
  },
  {
   "cell_type": "code",
   "execution_count": 39,
   "metadata": {},
   "outputs": [],
   "source": [
    "# Drop rows where numeric is NaN \n",
    "#Biden\n",
    "df_joebiden = df_joebiden.dropna(subset=['user_id_numeric'])\n",
    "df_joebiden = df_joebiden.dropna(subset=['user_followers_count_numeric'])\n",
    "df_joebiden = df_joebiden.dropna(subset=['lat_numeric'])\n",
    "df_joebiden = df_joebiden.dropna(subset=['long_numeric'])\n",
    "\n",
    "# Trump \n",
    "df_donaldtrump = df_donaldtrump.dropna(subset=['user_id_numeric'])\n",
    "df_donaldtrump = df_donaldtrump.dropna(subset=['user_followers_count_numeric'])\n",
    "df_donaldtrump = df_donaldtrump.dropna(subset=['lat_numeric'])\n",
    "df_donaldtrump = df_donaldtrump.dropna(subset=['long_numeric'])"
   ]
  },
  {
   "cell_type": "code",
   "execution_count": 52,
   "metadata": {},
   "outputs": [],
   "source": [
    "#Converting to int/float\n",
    "#Biden\n",
    "df_joebiden['user_id_numeric'] = df_joebiden['user_id_numeric'].astype('int64')\n",
    "df_joebiden['user_followers_count_numeric'] = df_joebiden['user_followers_count_numeric'].astype('float64')\n",
    "df_joebiden['lat_numeric'] = df_joebiden['lat_numeric'].astype('float64')\n",
    "df_joebiden['long_numeric'] = df_joebiden['long_numeric'].astype('float64')\n",
    "\n",
    "#Trump\n",
    "df_donaldtrump['user_id_numeric'] = df_donaldtrump['user_id_numeric'].astype('int64')\n",
    "df_donaldtrump['user_followers_count_numeric'] = df_donaldtrump['user_followers_count_numeric'].astype('float64')\n",
    "df_donaldtrump['lat_numeric'] = df_donaldtrump['lat_numeric'].astype('float64')\n",
    "df_donaldtrump['long_numeric'] = df_donaldtrump['long_numeric'].astype('float64')\n",
    "\n"
   ]
  },
  {
   "cell_type": "code",
   "execution_count": null,
   "metadata": {},
   "outputs": [],
   "source": [
    "# Drop the old column \n",
    "df_joebiden = df_joebiden.drop(columns=['user_id']).rename(columns={'user_id_numeric': 'user_id'})\n",
    "df_joebiden = df_joebiden.drop(columns=['user_followers_count']).rename(columns={'user_followers_count_numeric': 'user_followers_count'})\n",
    "df_joebiden = df_joebiden.drop(columns=['lat']).rename(columns={'lat_numeric': 'lat'})\n",
    "df_joebiden = df_joebiden.drop(columns=['long']).rename(columns={'long_numeric': 'long'})\n",
    "\n",
    "#Trump\n",
    "# df_joebiden = df_joebiden.drop(columns=['user_id']).rename(columns={'user_id_numeric': 'user_id'})\n",
    "# df_joebiden = df_joebiden.drop(columns=['user_followers_count']).rename(columns={'user_followers_count_numeric': 'user_followers_count'})\n",
    "# df_joebiden = df_joebiden.drop(columns=['lat']).rename(columns={'lat_numeric': 'lat'})\n",
    "# df_joebiden = df_joebiden.drop(columns=['long']).rename(columns={'long_numeric': 'long'})\n",
    "\n"
   ]
  }
 ],
 "metadata": {
  "kernelspec": {
   "display_name": "venv",
   "language": "python",
   "name": "python3"
  },
  "language_info": {
   "codemirror_mode": {
    "name": "ipython",
    "version": 3
   },
   "file_extension": ".py",
   "mimetype": "text/x-python",
   "name": "python",
   "nbconvert_exporter": "python",
   "pygments_lexer": "ipython3",
   "version": "3.12.6"
  }
 },
 "nbformat": 4,
 "nbformat_minor": 2
}
