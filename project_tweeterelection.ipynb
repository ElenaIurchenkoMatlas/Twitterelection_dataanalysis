version https://git-lfs.github.com/spec/v1
oid sha256:2aa2dc4795ccdd01ad392f99894e7771988f8b0ec411610b2a70ea488c8a6724
size 2022888
