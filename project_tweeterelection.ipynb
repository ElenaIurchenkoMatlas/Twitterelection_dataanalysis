version https://git-lfs.github.com/spec/v1
oid sha256:2fb71f592721aaca9643f2e18d5bb5796b053a544c55b4cb6e57e25f3fe0cf0a
size 67891830
